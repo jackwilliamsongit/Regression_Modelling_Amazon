{
 "cells": [
  {
   "cell_type": "code",
   "execution_count": 402,
   "id": "9415afd2",
   "metadata": {},
   "outputs": [],
   "source": [
    "import pandas as pd\n",
    "import numpy as np\n",
    "import matplotlib.pyplot as plt\n",
    "import re\n",
    "import random"
   ]
  },
  {
   "cell_type": "markdown",
   "id": "a961686c",
   "metadata": {},
   "source": [
    "# Define Classes"
   ]
  },
  {
   "cell_type": "code",
   "execution_count": 403,
   "id": "ad6fab64",
   "metadata": {},
   "outputs": [],
   "source": [
    "# Obtain review texts and scores from data\n",
    "class Review:\n",
    "    def __init__(self, score, text):\n",
    "        self.score = score\n",
    "        self.text = text\n",
    "        self.score_as_string = self.score_to_string()\n",
    "    \n",
    "    def score_to_string(self):\n",
    "        if self.score == 1:\n",
    "            return 'ONE'\n",
    "        elif self.score == 2:\n",
    "            return 'TWO'\n",
    "        elif self.score == 3:\n",
    "            return 'THREE'\n",
    "        elif self.score == 4:\n",
    "            return 'FOUR'\n",
    "        else:\n",
    "            return 'FIVE'\n",
    "\n",
    "class Samples:\n",
    "    def __init__(self, reviews):\n",
    "        self.reviews = reviews\n",
    "    \n",
    "    def extract_score(self):\n",
    "        return [x.score_as_string for x in self.reviews]\n",
    "    \n",
    "    def extract_text(self):\n",
    "        return [x.text for x in self.reviews]\n",
    "\n",
    "    def smooth_samples(self):\n",
    "        # Filter for 5 star and non-5 star reviews\n",
    "        five_stars = list(filter(lambda x: x.score_as_string == 'FIVE', self.reviews))  \n",
    "        not_five_stars = list(filter(lambda x: x.score_as_string != 'FIVE', self.reviews))  \n",
    "        \n",
    "        \n",
    "        # Adjust the sample size of the 5 star reviews\n",
    "        five_stars_short = five_stars[:75000]\n",
    "        \n",
    "        \n",
    "        # Pass the new sample sizes into the reviews object and shuffle\n",
    "        self.reviews = not_five_stars + five_stars_short\n",
    "        random.shuffle(self.reviews)  "
   ]
  },
  {
   "cell_type": "markdown",
   "id": "8220cba7",
   "metadata": {},
   "source": [
    "# Define stand alone functions"
   ]
  },
  {
   "cell_type": "code",
   "execution_count": 404,
   "id": "55f322b8",
   "metadata": {},
   "outputs": [],
   "source": [
    "def get_integer(string):\n",
    "    if string == 'ONE':\n",
    "        return 1\n",
    "    elif string == 'TWO':\n",
    "        return 2\n",
    "    elif string == 'THREE':\n",
    "        return 3\n",
    "    elif string == 'FOUR':\n",
    "        return 4\n",
    "    else:\n",
    "        return 5"
   ]
  },
  {
   "cell_type": "markdown",
   "id": "3d5c64e0",
   "metadata": {},
   "source": [
    "# Data Exploration"
   ]
  },
  {
   "cell_type": "code",
   "execution_count": 405,
   "id": "09d0a35b",
   "metadata": {},
   "outputs": [],
   "source": [
    "df = pd.read_csv('./reviews_data.csv')"
   ]
  },
  {
   "cell_type": "code",
   "execution_count": 406,
   "id": "c83c6c95",
   "metadata": {},
   "outputs": [
    {
     "data": {
      "text/plain": [
       "id                          int64\n",
       "product_id                 object\n",
       "user_id                    object\n",
       "profile_name               object\n",
       "helpfulness_numerator       int64\n",
       "helpfulness_denominator     int64\n",
       "score                       int64\n",
       "time                        int64\n",
       "summary                    object\n",
       "text                       object\n",
       "dtype: object"
      ]
     },
     "execution_count": 406,
     "metadata": {},
     "output_type": "execute_result"
    }
   ],
   "source": [
    "df.dtypes"
   ]
  },
  {
   "cell_type": "markdown",
   "id": "935741ca",
   "metadata": {},
   "source": [
    "### Assess null values and remove unnecessary columns"
   ]
  },
  {
   "cell_type": "code",
   "execution_count": 407,
   "id": "77a6946c",
   "metadata": {},
   "outputs": [
    {
     "name": "stdout",
     "output_type": "stream",
     "text": [
      "43\n",
      "568454\n"
     ]
    }
   ],
   "source": [
    "# Only 43 rows with null values in any collumns.\n",
    "print(len(df.loc[df.isna().any(axis = 1)]))\n",
    "\n",
    "\n",
    "# Negligable compared to total data, will remove all rows with null values\n",
    "print(len(df))\n",
    "\n",
    "\n",
    "# Remove null values\n",
    "df.dropna(how = 'any', inplace = True)\n",
    "\n",
    "\n",
    "# Select only the rows needed to reduce runtime and filter by helpfulness of review\n",
    "df = df.loc[df['helpfulness_numerator'] / df['helpfulness_denominator'] > 0.5][['score', 'text']]"
   ]
  },
  {
   "cell_type": "markdown",
   "id": "b0ec63d8",
   "metadata": {},
   "source": [
    "### How many reviews spesific words appear"
   ]
  },
  {
   "cell_type": "code",
   "execution_count": 408,
   "id": "c04b4fca",
   "metadata": {},
   "outputs": [
    {
     "name": "stdout",
     "output_type": "stream",
     "text": [
      "good  -->  64781\n",
      "bad  -->  12332\n",
      "amazing  -->  6443\n",
      "terrible  -->  1903\n",
      "average  -->  1522\n",
      "okay  -->  2237\n"
     ]
    }
   ],
   "source": [
    "# Words to count\n",
    "words = ['good', 'bad', 'amazing', 'terrible', 'average', 'okay']\n",
    "\n",
    "for word in words:\n",
    "    count = len(df.loc[df['text'].str.contains(word, flags = re.I, regex = True)])\n",
    "    print(word, ' --> ', count)"
   ]
  },
  {
   "cell_type": "markdown",
   "id": "cd377d89",
   "metadata": {},
   "source": [
    "### Distribution of ratings"
   ]
  },
  {
   "cell_type": "code",
   "execution_count": 409,
   "id": "05c2be1c",
   "metadata": {},
   "outputs": [
    {
     "data": {
      "image/png": "[encoded data removed]",
      "text/plain": [
       "<Figure size 432x288 with 1 Axes>"
      ]
     },
     "metadata": {
      "needs_background": "light"
     },
     "output_type": "display_data"
    },
    {
     "name": "stdout",
     "output_type": "stream",
     "text": [
      "The count for 5 stars is 152651\n"
     ]
    }
   ],
   "source": [
    "# Would expect to see more good reviews as the word 'good' appears in 5x as many reviews as the word 'bad'\n",
    "# Define axis\n",
    "stars_x = np.array([1,2,3,4,5])\n",
    "stars_y = np.array([])\n",
    "\n",
    "\n",
    "# Extract counts\n",
    "for i in stars_x:\n",
    "    this_star_count = len(df.loc[df['score'] == i])\n",
    "    stars_y = np.append(stars_y, this_star_count).astype('int32')\n",
    "    \n",
    "\n",
    "# Plot results\n",
    "plt.bar(stars_x, stars_y)\n",
    "plt.title('Distribution of ratings')\n",
    "plt.xlabel('Rating')\n",
    "plt.ylabel('Quantity')\n",
    "plt.show()\n",
    "\n",
    "chosen_index = 4\n",
    "print('The count for', chosen_index + 1, 'stars is', stars_y[chosen_index])"
   ]
  },
  {
   "cell_type": "markdown",
   "id": "d7481c1e",
   "metadata": {},
   "source": [
    "##### Sample is heavily biased towards 5 star reviews, this will be adjusted prior to modelling"
   ]
  },
  {
   "cell_type": "markdown",
   "id": "49c587d7",
   "metadata": {},
   "source": [
    "# Data Preparation"
   ]
  },
  {
   "cell_type": "markdown",
   "id": "041ba25b",
   "metadata": {},
   "source": [
    "### Extract data and store in list"
   ]
  },
  {
   "cell_type": "code",
   "execution_count": 410,
   "id": "65c18a82",
   "metadata": {},
   "outputs": [],
   "source": [
    "# Create empty list to append review objects\n",
    "reviews = []\n",
    "\n",
    "\n",
    "# Iterate through rows storing the score, summary and text in the Reviews class, storing the object in the empty list\n",
    "for i, row in df.iterrows():\n",
    "    reviews.append(Review(row['score'], row['text']))"
   ]
  },
  {
   "cell_type": "markdown",
   "id": "44c2636c",
   "metadata": {},
   "source": [
    "### Split data into train/test samples"
   ]
  },
  {
   "cell_type": "code",
   "execution_count": 411,
   "id": "2a672e64",
   "metadata": {},
   "outputs": [],
   "source": [
    "from sklearn.model_selection import train_test_split\n",
    "\n",
    "\n",
    "# Split proportionally and randomly\n",
    "train, test = train_test_split(reviews, test_size = 0.2, random_state = 42)\n",
    "\n",
    "\n",
    "# Pass the train objects into the sample class so the score/summary/text can be extracted from the entire list\n",
    "# rather than just from an indexed list value\n",
    "train_samp = Samples(train)\n",
    "test_samp = Samples(test)\n",
    "\n",
    "\n",
    "train_samp.smooth_samples()\n",
    "test_samp.smooth_samples()"
   ]
  },
  {
   "cell_type": "markdown",
   "id": "864b4a2c",
   "metadata": {},
   "source": [
    "### Define splits"
   ]
  },
  {
   "cell_type": "code",
   "execution_count": 412,
   "id": "8ef6fd2d",
   "metadata": {},
   "outputs": [],
   "source": [
    "# Define the summary training variables\n",
    "train_x = train_samp.extract_text()\n",
    "train_y = train_samp.extract_score()\n",
    "\n",
    "\n",
    "# Define the summary testing variables\n",
    "test_x = test_samp.extract_text()\n",
    "test_y = test_samp.extract_score()"
   ]
  },
  {
   "cell_type": "markdown",
   "id": "e5193e94",
   "metadata": {},
   "source": [
    "# Vectorisation (bag of words)"
   ]
  },
  {
   "cell_type": "code",
   "execution_count": null,
   "id": "7cb33001",
   "metadata": {},
   "outputs": [],
   "source": [
    "from sklearn.feature_extraction.text import TfidfVectorizer\n",
    "\n",
    "\n",
    "# Initialise the vectoriser\n",
    "vectoriser = TfidfVectorizer(stop_words = 'english')\n",
    "\n",
    "\n",
    "# Vectorise and scale training reviews and summaries\n",
    "train_x_vect = vectoriser.fit_transform(train_x)\n",
    "\n",
    "\n",
    "# Vectorise the testing reviews and summaries\n",
    "# Only tansform so that the scaling parameters learned from the training samples can be applied\n",
    "test_x_vect = vectoriser.transform(test_x)"
   ]
  },
  {
   "cell_type": "markdown",
   "id": "e93b7ec2",
   "metadata": {},
   "source": [
    "# Classification"
   ]
  },
  {
   "cell_type": "code",
   "execution_count": null,
   "id": "3c9e2071",
   "metadata": {},
   "outputs": [],
   "source": [
    "# Import model, limited to svm and logistic regression as we are working with strings\n",
    "from sklearn import svm\n",
    "from sklearn.linear_model import LogisticRegression\n",
    "\n",
    "\n",
    "# Initialise models\n",
    "svm = svm.SVC()\n",
    "lr = LogisticRegression()\n",
    "lrgs = LogisticRegression(penalty = 'l2', C=10, solver = 'liblinear', max_iter = 500) # with grid search parameters\n",
    "\n",
    "\n",
    "# logistic regression is used as trials with reduced sample sizes shows greater accuracy and shorter run time than svm"
   ]
  },
  {
   "cell_type": "markdown",
   "id": "2a32e025",
   "metadata": {},
   "source": [
    "### Fit to the Logistic Regression model, prior to grid search"
   ]
  },
  {
   "cell_type": "code",
   "execution_count": null,
   "id": "9e42569b",
   "metadata": {},
   "outputs": [],
   "source": [
    "lr.fit(train_x_vect, train_y)\n",
    "\n",
    "\n",
    "print('Accuracy prior to grid seacrh', round(lr.score(test_x_vect, test_y)*100,2),'%')"
   ]
  },
  {
   "cell_type": "markdown",
   "id": "13cc8800",
   "metadata": {},
   "source": [
    "### Fit to the LR model, with grid search parameters"
   ]
  },
  {
   "cell_type": "code",
   "execution_count": null,
   "id": "64259663",
   "metadata": {},
   "outputs": [],
   "source": [
    "lrgs.fit(train_x_vect, train_y)\n",
    "\n",
    "\n",
    "print('Accuracy prior to grid seacrh', round(lrgs.score(test_x_vect, test_y)*100,2),'%')"
   ]
  },
  {
   "cell_type": "markdown",
   "id": "4a2eee78",
   "metadata": {},
   "source": [
    "### F1 scores"
   ]
  },
  {
   "cell_type": "code",
   "execution_count": null,
   "id": "f945b4d8",
   "metadata": {},
   "outputs": [],
   "source": [
    "from sklearn.metrics import f1_score\n",
    "\n",
    "\n",
    "f1_score(test_y, lrgs.predict(test_x_vect), average = None)"
   ]
  },
  {
   "cell_type": "markdown",
   "id": "9c0049ad",
   "metadata": {},
   "source": [
    "##### The accuracy is skewed towards the 5 star reviews. Further reducing the 5 star sample size, doesn't actually result in a meaningful improvement to this distribution when compared to the drop in overall accuracy. Thus the sample size of 5 star reviews is left larger than the others, but stil reduced significantly compared to the initial size"
   ]
  },
  {
   "cell_type": "markdown",
   "id": "1bb074de",
   "metadata": {},
   "source": [
    "### Examples (modify index for different reviews)"
   ]
  },
  {
   "cell_type": "code",
   "execution_count": null,
   "id": "7b9c7fc1",
   "metadata": {},
   "outputs": [],
   "source": [
    "i = 90\n",
    "\n",
    "\n",
    "print('The actual score is', test_y[i])\n",
    "print('The predicted score (before grid search) is', lr.predict(test_x_vect[i])[0])\n",
    "print('The predicted score (after grid search) is', lrgs.predict(test_x_vect[i])[0])"
   ]
  },
  {
   "cell_type": "markdown",
   "id": "db15da42",
   "metadata": {},
   "source": [
    "# Accuracy for +/- 1 star"
   ]
  },
  {
   "cell_type": "markdown",
   "id": "fdd4ec19",
   "metadata": {},
   "source": [
    "### Create dataframe with integer score values"
   ]
  },
  {
   "cell_type": "code",
   "execution_count": null,
   "id": "e3141c3f",
   "metadata": {},
   "outputs": [],
   "source": [
    "# Define empty lists for appending data\n",
    "actual_list = []\n",
    "predicted_list = []\n",
    "\n",
    "\n",
    "# Create tuple containing lists to be looped through\n",
    "lists = zip(test_y, lrgs.predict(test_x_vect))\n",
    "\n",
    "\n",
    "# Loop through lists to append data\n",
    "for j, k in lists:\n",
    "    actual_list.append(j)\n",
    "    predicted_list.append(k)\n",
    "\n",
    "\n",
    "# Create dataframe\n",
    "data = {'predicted' : predicted_list,'actual' : actual_list}\n",
    "pred_df = pd.DataFrame(data)"
   ]
  },
  {
   "cell_type": "markdown",
   "id": "dcab17bf",
   "metadata": {},
   "source": [
    "### Create 'in_range\" collumn and assess accuracy"
   ]
  },
  {
   "cell_type": "code",
   "execution_count": null,
   "id": "1392fffb",
   "metadata": {},
   "outputs": [],
   "source": [
    "# Create collumns containing integer values for predicted and actual scores\n",
    "pred_df['predicted_as_integer'] = pred_df['predicted'].apply(lambda x: get_integer(x))\n",
    "pred_df['actual_as_integer'] = pred_df['actual'].apply(lambda x: get_integer(x))\n",
    "\n",
    "\n",
    "# Calculate the absolute difference between scores\n",
    "pred_df['difference'] = abs(pred_df['actual_as_integer'] - pred_df['predicted_as_integer'])\n",
    "\n",
    "\n",
    "# Calculate percentage accuracy\n",
    "not_in_range = len(pred_df.loc[pred_df['difference'] > 1])\n",
    "total = len(pred_df)\n",
    "percentage = round(((total - not_in_range)/ total)*100,2)\n",
    "\n",
    "\n",
    "print('Accuracy of prediction +/- 1 star is', percentage, '%')"
   ]
  },
  {
   "cell_type": "markdown",
   "id": "9a6f5c56",
   "metadata": {},
   "source": [
    "### Final result prepartion"
   ]
  },
  {
   "cell_type": "code",
   "execution_count": null,
   "id": "9a57173f",
   "metadata": {},
   "outputs": [],
   "source": [
    "acuracy_level = ['Exact score', 'Score +/- 1']\n",
    "accuracy = [round(lrgs.score(test_x_vect, test_y)*100,2), percentage]\n",
    "result_data = {'Precision Level' : acuracy_level, 'Accuracy' : accuracy}\n",
    "df_results = pd.DataFrame(result_data).set_index('Precision Level')"
   ]
  },
  {
   "cell_type": "markdown",
   "id": "cca1dda0",
   "metadata": {},
   "source": [
    "# Final results"
   ]
  },
  {
   "cell_type": "code",
   "execution_count": null,
   "id": "89f22e0d",
   "metadata": {},
   "outputs": [],
   "source": [
    "df_results"
   ]
  },
  {
   "cell_type": "markdown",
   "id": "e2d55543",
   "metadata": {},
   "source": [
    "### Grid search to improve accuracy"
   ]
  },
  {
   "cell_type": "markdown",
   "id": "3fdd1eb4",
   "metadata": {},
   "source": [
    "##### The code is commented out and moved to the back as it has a very long run time. The grid seach analysis was performed with a reduced sample size, with the optimal parameters output, thus is not needed in the final run."
   ]
  },
  {
   "cell_type": "code",
   "execution_count": null,
   "id": "9aacb428",
   "metadata": {},
   "outputs": [],
   "source": [
    "# Import models\n",
    "from sklearn.model_selection import GridSearchCV\n",
    "from sklearn.model_selection import RepeatedStratifiedKFold\n",
    "\n",
    "\n",
    "# Define grid parameters\n",
    "#grid={'C':[0.01,0.1,10,100,1000], 'solver': ['newton-cg', 'lbfgs', 'liblinear'],\n",
    "      #'penalty':['none','l1','l2','elasticnet']}\n",
    "\n",
    "\n",
    "# Define cv splits\n",
    "#cv = RepeatedStratifiedKFold(n_splits = 10, n_repeats = 3, random_state = 42)\n",
    "\n",
    "\n",
    "# Search grid and fit training x and y\n",
    "#clf=GridSearchCV(estimator=LogisticRegression(),param_grid=grid,cv=cv,n_jobs = 1,scoring='accuracy')\n",
    "#result = clf.fit(train_x_vect,train_y)\n",
    "\n",
    "\n",
    "# Print best result and parameters to be used\n",
    "#print(result.best_score_)\n",
    "#print(result.best_params_)"
   ]
  }
 ],
 "metadata": {
  "kernelspec": {
   "display_name": "Python 3 (ipykernel)",
   "language": "python",
   "name": "python3"
  },
  "language_info": {
   "codemirror_mode": {
    "name": "ipython",
    "version": 3
   },
   "file_extension": ".py",
   "mimetype": "text/x-python",
   "name": "python",
   "nbconvert_exporter": "python",
   "pygments_lexer": "ipython3",
   "version": "3.10.2"
  }
 },
 "nbformat": 4,
 "nbformat_minor": 5
}
